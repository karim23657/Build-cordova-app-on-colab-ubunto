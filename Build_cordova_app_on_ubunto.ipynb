{
  "cells": [
    {
      "cell_type": "markdown",
      "metadata": {
        "id": "XvwuPxQmYkVS"
      },
      "source": [
        "Check if node installed"
      ]
    },
    {
      "cell_type": "code",
      "execution_count": null,
      "metadata": {
        "colab": {
          "base_uri": "https://localhost:8080/"
        },
        "id": "XG8UMrCHYjEq",
        "outputId": "b0729416-0d0e-4cbd-bfc3-184b1a26d662"
      },
      "outputs": [],
      "source": [
        "!node -v\n",
        "!npm version"
      ]
    },
    {
      "cell_type": "markdown",
      "metadata": {
        "id": "U23YnDkRY9em"
      },
      "source": [
        "install cordova"
      ]
    },
    {
      "cell_type": "code",
      "execution_count": null,
      "metadata": {
        "id": "bgBixAA8YbNJ"
      },
      "outputs": [],
      "source": [
        "!npm install -g cordova"
      ]
    },
    {
      "cell_type": "markdown",
      "metadata": {
        "id": "pzTlg_1QZK9x"
      },
      "source": [
        "This command is optional"
      ]
    },
    {
      "cell_type": "code",
      "execution_count": null,
      "metadata": {
        "colab": {
          "base_uri": "https://localhost:8080/"
        },
        "id": "69PKsuA5ZSBi",
        "outputId": "4078b226-483d-4114-b5eb-a52f980c7e8e"
      },
      "outputs": [],
      "source": [
        "!cordova telemetry off"
      ]
    },
    {
      "cell_type": "markdown",
      "metadata": {
        "id": "sLc0UnrFZhKT"
      },
      "source": [
        "# create an app"
      ]
    },
    {
      "cell_type": "markdown",
      "metadata": {
        "id": "DsWZfAimaB4f"
      },
      "source": [
        "Create the App<br>\n",
        "<pre>!cordova create \"app save folder\" \"package name\" \"app name\"</pre>\n"
      ]
    },
    {
      "cell_type": "code",
      "execution_count": null,
      "metadata": {
        "colab": {
          "base_uri": "https://localhost:8080/"
        },
        "id": "oxef0uH6yc8Y",
        "outputId": "36e30d67-3cdb-43ff-dcd6-8e174786101c"
      },
      "outputs": [],
      "source": [
        "%cd /content"
      ]
    },
    {
      "cell_type": "markdown",
      "metadata": {},
      "source": [
        "This is an exampell , fill it with your own options:"
      ]
    },
    {
      "cell_type": "code",
      "execution_count": null,
      "metadata": {
        "colab": {
          "base_uri": "https://localhost:8080/"
        },
        "id": "Fu5HJpIOZwr2",
        "outputId": "51622553-9fdf-4de7-d4ec-b28712e38aae"
      },
      "outputs": [],
      "source": [
        "!cordova create App_Save_Folder com.exampell.app App_Name\n",
        "%cd App_Save_Folder"
      ]
    },
    {
      "cell_type": "markdown",
      "metadata": {
        "id": "wZlJa_eBbeKP"
      },
      "source": [
        "Add Platforms<br>\n",
        "<pre>!cordova platform add ios\n",
        "!cordova platform add android</pre>\n",
        "To check your current set of platforms:\n",
        "\n",
        "<pre>!cordova platform ls</pre>\n"
      ]
    },
    {
      "cell_type": "code",
      "execution_count": null,
      "metadata": {
        "id": "qi47pTvAbXse"
      },
      "outputs": [],
      "source": [
        "!cordova platform add android"
      ]
    },
    {
      "cell_type": "markdown",
      "metadata": {
        "id": "uajOlt-gZbPv"
      },
      "source": [
        "Check cordova requirements"
      ]
    },
    {
      "cell_type": "code",
      "execution_count": null,
      "metadata": {
        "colab": {
          "base_uri": "https://localhost:8080/"
        },
        "id": "oswkWJkYZXlK",
        "outputId": "75d017e4-726b-48e0-d293-3311f931b6db"
      },
      "outputs": [],
      "source": [
        "!cordova requirements"
      ]
    },
    {
      "cell_type": "markdown",
      "metadata": {
        "id": "EunzG21ScIVp"
      },
      "source": [
        "install java jdk if not installed"
      ]
    },
    {
      "cell_type": "code",
      "execution_count": null,
      "metadata": {
        "colab": {
          "base_uri": "https://localhost:8080/"
        },
        "id": "rab2CO5ub9gc",
        "outputId": "55255981-1cd7-42f0-918f-cc5d0aa7f7cf"
      },
      "outputs": [],
      "source": [
        "import os       #importing os to set environment variable\n",
        "def install_java():\n",
        "  !apt-get install -y openjdk-8-jdk-headless -qq > /dev/null      #install openjdk\n",
        "  os.environ[\"JAVA_HOME\"] = \"/usr/lib/jvm/java-8-openjdk-amd64\"     #set environment variable\n",
        "  !java -version       #check java version\n",
        "install_java()"
      ]
    },
    {
      "cell_type": "markdown",
      "metadata": {
        "id": "7ndMzNh5cTQo"
      },
      "source": [
        "install Android SDK if not installed"
      ]
    },
    {
      "cell_type": "code",
      "execution_count": null,
      "metadata": {
        "id": "PbyhcseCcEFJ"
      },
      "outputs": [],
      "source": [
        "!sudo apt install android-sdk\n",
        "import os\n",
        "os.environ[\"ANDROID_HOME\"] = \"/usr/lib/android-sdk\"\n",
        "os.environ[\"ANDROID_SDK_ROOT\"] = \"/usr/lib/android-sdk\""
      ]
    },
    {
      "cell_type": "markdown",
      "metadata": {
        "id": "JMB386egdflB"
      },
      "source": [
        "# **Add some plugins**"
      ]
    },
    {
      "cell_type": "markdown",
      "metadata": {
        "id": "3A-hCYDodzge"
      },
      "source": [
        "list installed plugins"
      ]
    },
    {
      "cell_type": "code",
      "execution_count": null,
      "metadata": {
        "colab": {
          "base_uri": "https://localhost:8080/"
        },
        "id": "sywiNQJ0dkSn",
        "outputId": "7d3a267c-e05b-4350-992c-c940c29c1fa9"
      },
      "outputs": [
        {
          "name": "stdout",
          "output_type": "stream",
          "text": [
            "No plugins added. Use `cordova plugin add <plugin>`.\u001b[0m\n"
          ]
        }
      ],
      "source": [
        "!cordova plugin list"
      ]
    },
    {
      "cell_type": "markdown",
      "metadata": {
        "id": "1oghlXIpeR5D"
      },
      "source": [
        "install some plugins"
      ]
    },
    {
      "cell_type": "code",
      "execution_count": null,
      "metadata": {
        "colab": {
          "base_uri": "https://localhost:8080/"
        },
        "id": "W0cP3WdaeeDG",
        "outputId": "60f67c3b-b2a6-4f7e-d8d1-d0c3f958acec"
      },
      "outputs": [],
      "source": [
        "!cordova plugin add cordova-plugin-splashscreen"
      ]
    },
    {
      "cell_type": "code",
      "execution_count": null,
      "metadata": {
        "colab": {
          "base_uri": "https://localhost:8080/"
        },
        "id": "jzYN7E4rensm",
        "outputId": "d260df4d-8ff2-41fb-af76-02416d593be4"
      },
      "outputs": [],
      "source": [
        "!cordova plugin add cordova-plugin-media-capture"
      ]
    },
    {
      "cell_type": "code",
      "execution_count": null,
      "metadata": {
        "colab": {
          "base_uri": "https://localhost:8080/"
        },
        "id": "vRkX-Cs9eqEF",
        "outputId": "bb36d4c2-f39d-4e1e-8013-b32d015a9768"
      },
      "outputs": [],
      "source": [
        "!cordova plugin add cordova-plugin-file"
      ]
    },
    {
      "cell_type": "code",
      "execution_count": null,
      "metadata": {
        "colab": {
          "base_uri": "https://localhost:8080/"
        },
        "id": "JlQe2DR_n2X3",
        "outputId": "f32605df-f127-4179-8863-97511308cc76"
      },
      "outputs": [],
      "source": [
        "!cordova plugin add cordova-sqlite-storage"
      ]
    },
    {
      "cell_type": "markdown",
      "metadata": {},
      "source": [
        "If you want to install plugind from github:"
      ]
    },
    {
      "cell_type": "code",
      "execution_count": null,
      "metadata": {
        "colab": {
          "base_uri": "https://localhost:8080/"
        },
        "id": "-FGIEsRnoOKk",
        "outputId": "d83701c4-2269-480d-b82c-3919bc6d75b1"
      },
      "outputs": [],
      "source": [
        "!cordova plugin add https://github.com/bykof/cordova-plugin-webserver"
      ]
    },
    {
      "cell_type": "markdown",
      "metadata": {},
      "source": [
        "If you want to delete an installed plugin:"
      ]
    },
    {
      "cell_type": "code",
      "execution_count": null,
      "metadata": {
        "colab": {
          "base_uri": "https://localhost:8080/"
        },
        "id": "_76Cdpt30jXV",
        "outputId": "0f74eae2-d08f-497f-fc1b-8f217ef6d672"
      },
      "outputs": [],
      "source": [
        "!cordova plugin rm cordova-plugin-file-opener2"
      ]
    },
    {
      "cell_type": "code",
      "execution_count": null,
      "metadata": {
        "colab": {
          "base_uri": "https://localhost:8080/"
        },
        "id": "WWWFmfqb0-5w",
        "outputId": "ebcf1dac-627b-42b9-c15a-62583728d38a"
      },
      "outputs": [],
      "source": [
        "!cordova plugin rm cordova-plugin-file-transfer"
      ]
    },
    {
      "cell_type": "markdown",
      "metadata": {
        "id": "dgz-RdYbsfPy"
      },
      "source": [
        "**build app**"
      ]
    },
    {
      "cell_type": "code",
      "execution_count": null,
      "metadata": {
        "colab": {
          "base_uri": "https://localhost:8080/"
        },
        "id": "4xo404Fos3Q7",
        "outputId": "ae229915-c84f-4025-8aff-66792c3166b9"
      },
      "outputs": [],
      "source": [
        "!cordova requirements"
      ]
    },
    {
      "cell_type": "code",
      "execution_count": null,
      "metadata": {
        "colab": {
          "base_uri": "https://localhost:8080/"
        },
        "id": "Wo9jo3z2zXdz",
        "outputId": "dc3ec063-e064-40c9-b61e-6d5bb5702d0d"
      },
      "outputs": [
        {
          "name": "stdout",
          "output_type": "stream",
          "text": [
            "Loading local repository...                                                     \r[=========                              ] 25% Loading local repository...       \r[=========                              ] 25% Fetch remote repository...        \r[=======================================] 100% Fetch remote repository...       \rAvailable Android targets:\n"
          ]
        }
      ],
      "source": [
        "!/content/Android/Sdk/tools/bin/avdmanager  list target"
      ]
    },
    {
      "cell_type": "code",
      "execution_count": null,
      "metadata": {
        "id": "ng2qZjUGug2c"
      },
      "outputs": [],
      "source": [
        "!wget https://dl.google.com/android/repository/commandlinetools-linux-6200805_latest.zip\n",
        "!mkdir -p /content/Android/Sdk\n",
        "!unzip -qq commandlinetools-linux-6200805_latest.zip -d /content/Android/Sdk"
      ]
    },
    {
      "cell_type": "code",
      "execution_count": null,
      "metadata": {
        "id": "JVixS0ehtObl"
      },
      "outputs": [],
      "source": [
        "import os\n",
        "os.environ[\"ANDROID_HOME\"] = \"/usr/lib/android-sdk\"\n",
        "os.environ[\"ANDROID_SDK_ROOT\"] = \"/usr/lib/android-sdk\"\n",
        "os.environ[\"JAVA_HOME\"]=\"/usr/lib/jvm/java-11-openjdk-amd64\""
      ]
    },
    {
      "cell_type": "code",
      "execution_count": null,
      "metadata": {
        "id": "6Yutv9j-vJqL"
      },
      "outputs": [],
      "source": [
        "!sudo apt install openjdk-8-jdk openjdk-8-jre"
      ]
    },
    {
      "cell_type": "code",
      "execution_count": null,
      "metadata": {
        "id": "ihqRUZT8tSYO"
      },
      "outputs": [],
      "source": [
        "\n",
        "!wget https://dl.google.com/android/repository/commandlinetools-linux-7583922_latest.zip\n",
        "!unzip commandlinetools-linux-7583922_latest.zip -d cmdline-tools\n",
        "!sudo mv cmdline-tools /usr/lib/android-sdk/"
      ]
    },
    {
      "cell_type": "code",
      "execution_count": null,
      "metadata": {
        "colab": {
          "base_uri": "https://localhost:8080/"
        },
        "id": "FQhU9LfStbnf",
        "outputId": "97c96c07-7a52-44ec-f118-bac86f46c723"
      },
      "outputs": [
        {
          "name": "stdout",
          "output_type": "stream",
          "text": [
            "\n"
          ]
        }
      ],
      "source": [
        "!/usr/lib/android-sdk/cmdline-tools/cmdline-tools/bin/sdkmanager \"build-tools;33.0.2\""
      ]
    },
    {
      "cell_type": "markdown",
      "metadata": {},
      "source": [
        "If you want to install other versions uncomment and run bellow cell :"
      ]
    },
    {
      "cell_type": "code",
      "execution_count": null,
      "metadata": {
        "id": "cRkULsN5redS"
      },
      "outputs": [],
      "source": [
        "# !/usr/lib/android-sdk/cmdline-tools/cmdline-tools/bin/sdkmanager --list"
      ]
    },
    {
      "cell_type": "code",
      "execution_count": null,
      "metadata": {
        "id": "Db78P2FQtrz6"
      },
      "outputs": [],
      "source": [
        "!rm /usr/lib/android-sdk/build-tools/27.0.1"
      ]
    },
    {
      "cell_type": "code",
      "execution_count": null,
      "metadata": {
        "colab": {
          "base_uri": "https://localhost:8080/"
        },
        "id": "zZKhqF2btk_8",
        "outputId": "d3643e6e-1d30-4140-f781-c6a7dbaaf080"
      },
      "outputs": [
        {
          "name": "stdout",
          "output_type": "stream",
          "text": [
            "[=======================================] 100% Computing updates...             \n"
          ]
        }
      ],
      "source": [
        "!/usr/lib/android-sdk/cmdline-tools/cmdline-tools/bin/sdkmanager --install"
      ]
    },
    {
      "cell_type": "code",
      "execution_count": null,
      "metadata": {
        "id": "q-3CyvR8sbH0"
      },
      "outputs": [],
      "source": [
        "!cordova build android"
      ]
    }
  ],
  "metadata": {
    "colab": {
      "provenance": []
    },
    "kernelspec": {
      "display_name": "Python 3",
      "name": "python3"
    },
    "language_info": {
      "name": "python"
    }
  },
  "nbformat": 4,
  "nbformat_minor": 0
}
